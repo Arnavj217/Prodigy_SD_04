{
 "cells": [
  {
   "cell_type": "code",
   "execution_count": 10,
   "id": "c314822b-092f-4b12-8e67-eb63f9548280",
   "metadata": {},
   "outputs": [
    {
     "name": "stdout",
     "output_type": "stream",
     "text": [
      "Enter your Sudoku puzzle (one row at a time, use 0 for empty cells):\n"
     ]
    },
    {
     "name": "stdin",
     "output_type": "stream",
     "text": [
      "Row 1 (9 digits, no spaces):  705901062\n",
      "Row 2 (9 digits, no spaces):  243806970\n",
      "Row 3 (9 digits, no spaces):  691720003\n",
      "Row 4 (9 digits, no spaces):  400610308\n",
      "Row 5 (9 digits, no spaces):  068573210\n",
      "Row 6 (9 digits, no spaces):  102098007\n",
      "Row 7 (9 digits, no spaces):  300085146\n",
      "Row 8 (9 digits, no spaces):  024107839\n",
      "Row 9 (9 digits, no spaces):  810309705\n"
     ]
    },
    {
     "name": "stdout",
     "output_type": "stream",
     "text": [
      "\n",
      " Input Sudoku Puzzle:\n",
      "7 . 5 9 . 1 . 6 2\n",
      "2 4 3 8 . 6 9 7 .\n",
      "6 9 1 7 2 . . . 3\n",
      "4 . . 6 1 . 3 . 8\n",
      ". 6 8 5 7 3 2 1 .\n",
      "1 . 2 . 9 8 . . 7\n",
      "3 . . . 8 5 1 4 6\n",
      ". 2 4 1 . 7 8 3 9\n",
      "8 1 . 3 . 9 7 . 5\n",
      "\n",
      " Solved Sudoku Puzzle:\n",
      "7 8 5 9 3 1 4 6 2\n",
      "2 4 3 8 5 6 9 7 1\n",
      "6 9 1 7 2 4 5 8 3\n",
      "4 5 7 6 1 2 3 9 8\n",
      "9 6 8 5 7 3 2 1 4\n",
      "1 3 2 4 9 8 6 5 7\n",
      "3 7 9 2 8 5 1 4 6\n",
      "5 2 4 1 6 7 8 3 9\n",
      "8 1 6 3 4 9 7 2 5\n"
     ]
    }
   ],
   "source": [
    "def print_grid(grid):\n",
    "    for row in grid:\n",
    "        print(\" \".join(str(num) if num != 0 else '.' for num in row))\n",
    "\n",
    "def is_valid(grid, row, col, num):\n",
    "    # Check row\n",
    "    if num in grid[row]:\n",
    "        return False\n",
    "\n",
    "    # Check column\n",
    "    if num in [grid[i][col] for i in range(9)]:\n",
    "        return False\n",
    "\n",
    "    # Check 3x3 box\n",
    "    start_row = (row // 3) * 3\n",
    "    start_col = (col // 3) * 3\n",
    "    for i in range(3):\n",
    "        for j in range(3):\n",
    "            if grid[start_row + i][start_col + j] == num:\n",
    "                return False\n",
    "\n",
    "    return True\n",
    "\n",
    "def solve_sudoku(grid):\n",
    "    for row in range(9):\n",
    "        for col in range(9):\n",
    "            if grid[row][col] == 0:\n",
    "                for num in range(1, 10):\n",
    "                    if is_valid(grid, row, col, num):\n",
    "                        grid[row][col] = num\n",
    "                        if solve_sudoku(grid):\n",
    "                            return True\n",
    "                        grid[row][col] = 0  # Backtrack\n",
    "                return False\n",
    "    return True\n",
    "\n",
    "# --------------------------------------------\n",
    "# Input: Get Sudoku puzzle from the user\n",
    "# --------------------------------------------\n",
    "print(\"Enter your Sudoku puzzle (one row at a time, use 0 for empty cells):\")\n",
    "\n",
    "user_grid = []\n",
    "for i in range(9):\n",
    "    while True:\n",
    "        row_input = input(f\"Row {i + 1} (9 digits, no spaces): \")\n",
    "        if len(row_input) == 9 and row_input.isdigit():\n",
    "            row = [int(char) for char in row_input]\n",
    "            user_grid.append(row)\n",
    "            break\n",
    "        else:\n",
    "            print(\" Invalid input. Please enter exactly 9 digits (0-9 only).\")\n",
    "\n",
    "# --------------------------------------------\n",
    "# Output: Solve and show result\n",
    "# --------------------------------------------\n",
    "print(\"\\n Input Sudoku Puzzle:\")\n",
    "print_grid(user_grid)\n",
    "\n",
    "if solve_sudoku(user_grid):\n",
    "    print(\"\\n Solved Sudoku Puzzle:\")\n",
    "    print_grid(user_grid)\n",
    "else:\n",
    "    print(\"\\n No solution exists for the given Sudoku.\")\n"
   ]
  },
  {
   "cell_type": "code",
   "execution_count": null,
   "id": "a4975cc8-646f-4df2-86bb-abe38f20fbc6",
   "metadata": {},
   "outputs": [],
   "source": []
  }
 ],
 "metadata": {
  "kernelspec": {
   "display_name": "Python 3 (ipykernel)",
   "language": "python",
   "name": "python3"
  },
  "language_info": {
   "codemirror_mode": {
    "name": "ipython",
    "version": 3
   },
   "file_extension": ".py",
   "mimetype": "text/x-python",
   "name": "python",
   "nbconvert_exporter": "python",
   "pygments_lexer": "ipython3",
   "version": "3.12.7"
  }
 },
 "nbformat": 4,
 "nbformat_minor": 5
}
